{
  "nbformat": 4,
  "nbformat_minor": 0,
  "metadata": {
    "colab": {
      "name": "LFW_face.ipynb",
      "provenance": []
    },
    "kernelspec": {
      "name": "python3",
      "display_name": "Python 3"
    },
    "language_info": {
      "name": "python"
    },
    "accelerator": "GPU",
    "gpuClass": "standard"
  },
  "cells": [
    {
      "cell_type": "markdown",
      "source": [
        "# creat model"
      ],
      "metadata": {
        "id": "5Td9PcBEiS0V"
      }
    },
    {
      "cell_type": "code",
      "execution_count": 1,
      "metadata": {
        "id": "yCGSA7hWce0p"
      },
      "outputs": [],
      "source": [
        "import tensorflow as tf\n",
        "from tensorflow.keras.layers import Layer "
      ]
    },
    {
      "cell_type": "markdown",
      "source": [
        "creat embedding layer"
      ],
      "metadata": {
        "id": "oj5kiXd-iXKQ"
      }
    },
    {
      "cell_type": "code",
      "source": [
        "class Embedding(Layer):\n",
        "  def __init__(self):\n",
        "    super(Embedding,self).__init__()\n",
        "    self.c1=tf.keras.layers.Conv2D(64,(10,10),activation='relu',input_shape=(100,100,3))\n",
        "    self.c2=tf.keras.layers.Conv2D(128,(7,7),activation='relu')\n",
        "    self.c3=tf.keras.layers.Conv2D(128,(4,4),activation='relu')\n",
        "    self.c4=tf.keras.layers.Conv2D(256,(4,4),activation='relu')\n",
        "    self.pool=tf.keras.layers.MaxPooling2D(64,(2,2),padding='same')\n",
        "    self.flatt=tf.keras.layers.Flatten()\n",
        "    self.dense=tf.keras.layers.Dense(4096,activation='sigmoid')\n",
        "  \n",
        "  def call(self,input_tensor):\n",
        "    x=self.c1(input_tensor)\n",
        "    x=self.pool(x)\n",
        "    x=self.c2(x)\n",
        "    x=self.pool(x)\n",
        "    x=self.c3(x)\n",
        "    x=self.pool(x)\n",
        "    x=self.c4(x)\n",
        "    x=self.flatt(x)\n",
        "    return  self.dense(x)"
      ],
      "metadata": {
        "id": "rZinFkn3cl3O"
      },
      "execution_count": 2,
      "outputs": []
    },
    {
      "cell_type": "code",
      "source": [
        "embedding=Embedding()\n",
        "embedding.build(input_shape=(100,100,3))"
      ],
      "metadata": {
        "id": "k648taLDhA3n"
      },
      "execution_count": 3,
      "outputs": []
    },
    {
      "cell_type": "markdown",
      "source": [
        "creat distance layer"
      ],
      "metadata": {
        "id": "6X-7k5UTlHuC"
      }
    },
    {
      "cell_type": "code",
      "source": [
        "class L1Dist(Layer):\n",
        "    def __init__(self):\n",
        "      super(L1Dist,self).__init__()\n",
        "    def call(self, input_embedding, validation_embedding):\n",
        "        return tf.math.abs(input_embedding - validation_embedding)"
      ],
      "metadata": {
        "id": "0ZcJAs64kv0D"
      },
      "execution_count": 4,
      "outputs": []
    },
    {
      "cell_type": "code",
      "source": [
        "L1dist=L1Dist()"
      ],
      "metadata": {
        "id": "8oyhEgvGlcuq"
      },
      "execution_count": 5,
      "outputs": []
    },
    {
      "cell_type": "markdown",
      "source": [
        "creat siames model"
      ],
      "metadata": {
        "id": "PD8KYumzlrdC"
      }
    },
    {
      "cell_type": "code",
      "source": [
        "input_anc=tf.keras.layers.Input(shape=(100,100,3))\n",
        "input_2=tf.keras.layers.Input(shape=(100,100,3))\n",
        "\n",
        "emb_1=embedding(input_anc)\n",
        "emb_2=embedding(input_2)\n",
        "distance=L1dist(emb_1,emb_2)\n",
        "classifier=tf.keras.layers.Dense(1,activation='sigmoid')(distance)\n",
        "\n",
        "siamese_model=tf.keras.models.Model([input_anc,input_2],classifier)"
      ],
      "metadata": {
        "id": "CRiRhAUGlknO"
      },
      "execution_count": 6,
      "outputs": []
    },
    {
      "cell_type": "code",
      "source": [
        "siamese_model.summary()"
      ],
      "metadata": {
        "colab": {
          "base_uri": "https://localhost:8080/"
        },
        "id": "0hjIDrnqm_-N",
        "outputId": "e57bf810-1a2a-4199-82ea-94182767fe8a"
      },
      "execution_count": 7,
      "outputs": [
        {
          "output_type": "stream",
          "name": "stdout",
          "text": [
            "Model: \"model\"\n",
            "__________________________________________________________________________________________________\n",
            " Layer (type)                   Output Shape         Param #     Connected to                     \n",
            "==================================================================================================\n",
            " input_1 (InputLayer)           [(None, 100, 100, 3  0           []                               \n",
            "                                )]                                                                \n",
            "                                                                                                  \n",
            " input_2 (InputLayer)           [(None, 100, 100, 3  0           []                               \n",
            "                                )]                                                                \n",
            "                                                                                                  \n",
            " embedding (Embedding)          (None, 4096)         38960448    ['input_1[0][0]',                \n",
            "                                                                  'input_2[0][0]']                \n",
            "                                                                                                  \n",
            " l1_dist (L1Dist)               (None, 4096)         0           ['embedding[0][0]',              \n",
            "                                                                  'embedding[1][0]']              \n",
            "                                                                                                  \n",
            " dense_1 (Dense)                (None, 1)            4097        ['l1_dist[0][0]']                \n",
            "                                                                                                  \n",
            "==================================================================================================\n",
            "Total params: 38,964,545\n",
            "Trainable params: 38,964,545\n",
            "Non-trainable params: 0\n",
            "__________________________________________________________________________________________________\n"
          ]
        }
      ]
    },
    {
      "cell_type": "markdown",
      "source": [
        "# load and prepeocess data"
      ],
      "metadata": {
        "id": "OM3U33hDoJ26"
      }
    },
    {
      "cell_type": "code",
      "source": [
        "import cv2 \n",
        "import numpy as np\n",
        "import random \n",
        "import matplotlib.pyplot as plt \n",
        "import os "
      ],
      "metadata": {
        "id": "yk2g4wl5nDYh"
      },
      "execution_count": 8,
      "outputs": []
    },
    {
      "cell_type": "code",
      "source": [
        "%cd '/content/drive/MyDrive/faceR'"
      ],
      "metadata": {
        "colab": {
          "base_uri": "https://localhost:8080/"
        },
        "id": "58CSyD41ph9S",
        "outputId": "b4a3c394-c110-4988-beb0-87e2143c88e8"
      },
      "execution_count": 9,
      "outputs": [
        {
          "output_type": "stream",
          "name": "stdout",
          "text": [
            "/content/drive/MyDrive/faceR\n"
          ]
        }
      ]
    },
    {
      "cell_type": "code",
      "source": [
        "Neg_path=os.path.join('data','negative')\n",
        "Pos_path=os.path.join('data','positive')\n",
        "Anc_path=os.path.join('data','anchor')"
      ],
      "metadata": {
        "id": "zcNFY_Ouptam"
      },
      "execution_count": 10,
      "outputs": []
    },
    {
      "cell_type": "code",
      "source": [
        "os.makedirs(Neg_path)\n",
        "os.makedirs(Pos_path)\n",
        "os.makedirs(Anc_path)"
      ],
      "metadata": {
        "id": "T7fUGTdEpuFm"
      },
      "execution_count": null,
      "outputs": []
    },
    {
      "cell_type": "code",
      "source": [
        "for directory in os.listdir('lfw'):\n",
        "  for files in os.listdir(os.path.join('lfw',directory)):\n",
        "    Ex_path=os.path.join('lfw',directory,files)\n",
        "    New_path= os.path.join(Neg_path, files)\n",
        "    os.replace(Ex_path,New_path)"
      ],
      "metadata": {
        "id": "xgP3RLCRpxHO"
      },
      "execution_count": null,
      "outputs": []
    },
    {
      "cell_type": "code",
      "source": [
        "import uuid"
      ],
      "metadata": {
        "id": "2_clNwUGpzVV"
      },
      "execution_count": null,
      "outputs": []
    },
    {
      "cell_type": "code",
      "source": [
        "cam=cv2.VideoCapture(0)\n",
        "while True:\n",
        "    _,frame=cam.read()\n",
        "    frame=cv2.flip(frame,1)\n",
        "    frame = frame[120:120+250,200:200+250, :]\n",
        "    if cv2.waitKey(1)& 0XFF ==ord('p'):\n",
        "        image_name=os.path.join(Pos_path,'{}.jpg'.format(uuid.uuid1()))\n",
        "        cv2.imwrite(image_name,frame)\n",
        "    \n",
        "    if cv2.waitKey(1)& 0XFF ==ord('a'):\n",
        "        image_name=os.path.join(Anc_path,'{}.jpg'.format(uuid.uuid1()))\n",
        "        cv2.imwrite(image_name,frame)\n",
        "    \n",
        "    cv2.imshow('fram',frame)\n",
        "    if cv2.waitKey(1)& 0XFF ==27:\n",
        "        break"
      ],
      "metadata": {
        "id": "qLd125Bhp4Df"
      },
      "execution_count": null,
      "outputs": []
    },
    {
      "cell_type": "markdown",
      "source": [
        "creat helper fuction "
      ],
      "metadata": {
        "id": "B4SUBnVdlbxS"
      }
    },
    {
      "cell_type": "code",
      "source": [
        "def normalize(image):\n",
        "  image=(image/127.5)-1\n",
        "  return image\n",
        "def resize(image,height,width):\n",
        "  image=tf.image.resize(image,(height,width),method=tf.image.ResizeMethod.NEAREST_NEIGHBOR)\n",
        "  return image\n",
        "\n",
        "def load_image(image_path):\n",
        "  image=tf.io.read_file(image_path)\n",
        "  image=tf.image.decode_jpeg(image,3)\n",
        "  image=tf.cast(image,tf.float32)\n",
        "  image=resize(image,100,100)\n",
        "  image=normalize(image)\n",
        "  return image \n"
      ],
      "metadata": {
        "id": "BxQ5_MnnqBuV"
      },
      "execution_count": 11,
      "outputs": []
    },
    {
      "cell_type": "code",
      "source": [
        "def load_anchor_positive_with_label(image_path,positive_path):\n",
        "  anchor=load_image(image_path)\n",
        "  positive=load_image(positive_path)\n",
        "  label=tf.ones(1)\n",
        "  return anchor , positive , label\n",
        "\n",
        "def load_anchor_negative_with_label(image_path,negative_path):\n",
        "  anchor=load_image(image_path)\n",
        "  negative=load_image(negative_path)\n",
        "  label=tf.zeros(1)\n",
        "  return anchor , negative , label"
      ],
      "metadata": {
        "id": "jUYPLRS5rzxj"
      },
      "execution_count": 12,
      "outputs": []
    },
    {
      "cell_type": "code",
      "source": [
        "anchor=tf.data.Dataset.list_files(Anc_path+'/*.jpg').take(300)\n",
        "positive=tf.data.Dataset.list_files(Pos_path+'/*.jpg').take(300)\n",
        "negative=tf.data.Dataset.list_files(Neg_path+'/*.jpg').take(300)"
      ],
      "metadata": {
        "id": "z3EwRKHHp8p9"
      },
      "execution_count": 13,
      "outputs": []
    },
    {
      "cell_type": "code",
      "source": [
        "anc_pos=tf.data.Dataset.zip((anchor,positive))\n",
        "anc_neg=tf.data.Dataset.zip((anchor,negative))"
      ],
      "metadata": {
        "id": "acUOpLzgsnmH"
      },
      "execution_count": 14,
      "outputs": []
    },
    {
      "cell_type": "code",
      "source": [
        "anc_pos_data=anc_pos.map(load_anchor_positive_with_label)\n",
        "anc_neg_data=anc_neg.map(load_anchor_negative_with_label)"
      ],
      "metadata": {
        "id": "486LGd7ourfg"
      },
      "execution_count": 15,
      "outputs": []
    },
    {
      "cell_type": "code",
      "source": [
        "data = anc_pos_data.concatenate(anc_neg_data)"
      ],
      "metadata": {
        "id": "tF9n5OpJu2UT"
      },
      "execution_count": 16,
      "outputs": []
    },
    {
      "cell_type": "code",
      "source": [
        "data=data.shuffle(1000)\n",
        "train_data = data.take(round(len(data)*.7))\n",
        "train_data = train_data.batch(16)"
      ],
      "metadata": {
        "id": "B0KS6Tz7vWIz"
      },
      "execution_count": 17,
      "outputs": []
    },
    {
      "cell_type": "code",
      "source": [
        "test_data = data.skip(round(len(data)*.7))\n",
        "test_data = test_data.take(round(len(data)*.3))\n",
        "test_data = test_data.batch(16)"
      ],
      "metadata": {
        "id": "EI2oPbtDv6Ve"
      },
      "execution_count": 18,
      "outputs": []
    },
    {
      "cell_type": "markdown",
      "source": [
        "## train model "
      ],
      "metadata": {
        "id": "Tr9Bo_E5sp5U"
      }
    },
    {
      "cell_type": "code",
      "source": [
        "binary_cross_loss = tf.losses.BinaryCrossentropy()\n",
        "opt = tf.keras.optimizers.Adam(1e-4) \n",
        "\n",
        "checkpoint_dir = 'training_checkpoints'\n",
        "checkpoint_prefix = os.path.join(checkpoint_dir, 'ckpt')\n",
        "checkpoint = tf.train.Checkpoint(opt=opt, siamese_model=siamese_model)"
      ],
      "metadata": {
        "id": "A8ZzSLFupY3E"
      },
      "execution_count": 19,
      "outputs": []
    },
    {
      "cell_type": "code",
      "source": [
        "def train_step(batch):\n",
        "    \n",
        "    \n",
        "    with tf.GradientTape() as tape:     \n",
        "        X = batch[:2]\n",
        "        y = batch[2]\n",
        "        \n",
        "        yhat = siamese_model(X, training=True)\n",
        "        loss = binary_cross_loss(y, yhat)\n",
        "    print(loss)\n",
        "    grad = tape.gradient(loss, siamese_model.trainable_variables)\n",
        "    opt.apply_gradients(zip(grad, siamese_model.trainable_variables))\n",
        "    \n",
        "    return loss"
      ],
      "metadata": {
        "id": "Yabkl5s0pGkS"
      },
      "execution_count": 20,
      "outputs": []
    },
    {
      "cell_type": "code",
      "source": [
        "def train(data, EPOCHS):\n",
        "    for epoch in range(1, EPOCHS+1):\n",
        "        print('\\n Epoch {}/{}'.format(epoch, EPOCHS))\n",
        "        progbar = tf.keras.utils.Progbar(len(data))\n",
        "        \n",
        "       \n",
        "        recall=tf.keras.metrics.Recall()\n",
        "        precision=tf.keras.metrics.Precision()\n",
        "        \n",
        "        \n",
        "        for idx, batch in enumerate(data):\n",
        "           \n",
        "            loss = train_step(batch)\n",
        "            yhat = siamese_model.predict(batch[:2])\n",
        "            recall.update_state(batch[2], yhat)\n",
        "            precision.update_state(batch[2], yhat) \n",
        "            progbar.update(idx+1)\n",
        "        print(loss.numpy(), recall.result().numpy(), precision.result().numpy())\n",
        "        \n",
        "      \n",
        "        if epoch % 4 == 0: \n",
        "            checkpoint.save(file_prefix=checkpoint_prefix)"
      ],
      "metadata": {
        "id": "XnKZ41GUoBUl"
      },
      "execution_count": 21,
      "outputs": []
    },
    {
      "cell_type": "code",
      "source": [
        "EPOCHS = 8\n",
        "train(train_data, EPOCHS)"
      ],
      "metadata": {
        "colab": {
          "base_uri": "https://localhost:8080/"
        },
        "id": "HUaDL3bNpmCL",
        "outputId": "47e30972-05da-4de8-c2ed-d3b463a3ecd1"
      },
      "execution_count": 22,
      "outputs": [
        {
          "output_type": "stream",
          "name": "stdout",
          "text": [
            "tf.Tensor(0.1052363, shape=(), dtype=float32)\n",
            " 1/27 [>.............................] - ETA: 36:15tf.Tensor(0.0042672395, shape=(), dtype=float32)\n",
            " 2/27 [=>............................] - ETA: 17s  tf.Tensor(0.052497234, shape=(), dtype=float32)\n",
            " 3/27 [==>...........................] - ETA: 17stf.Tensor(0.0014566366, shape=(), dtype=float32)\n",
            " 4/27 [===>..........................] - ETA: 17stf.Tensor(0.0030063526, shape=(), dtype=float32)\n",
            " 5/27 [====>.........................] - ETA: 16stf.Tensor(0.003922834, shape=(), dtype=float32)\n",
            " 6/27 [=====>........................] - ETA: 16stf.Tensor(0.00069383124, shape=(), dtype=float32)\n",
            " 7/27 [======>.......................] - ETA: 15stf.Tensor(0.00031239513, shape=(), dtype=float32)\n",
            " 8/27 [=======>......................] - ETA: 14stf.Tensor(4.014222e-05, shape=(), dtype=float32)\n",
            " 9/27 [=========>....................] - ETA: 13stf.Tensor(0.03743514, shape=(), dtype=float32)\n",
            "10/27 [==========>...................] - ETA: 13stf.Tensor(0.001381387, shape=(), dtype=float32)\n",
            "11/27 [===========>..................] - ETA: 12stf.Tensor(0.016243637, shape=(), dtype=float32)\n",
            "12/27 [============>.................] - ETA: 11stf.Tensor(0.23681857, shape=(), dtype=float32)\n",
            "13/27 [=============>................] - ETA: 10stf.Tensor(0.001334386, shape=(), dtype=float32)\n",
            "14/27 [==============>...............] - ETA: 9s tf.Tensor(0.00019891874, shape=(), dtype=float32)\n",
            "15/27 [===============>..............] - ETA: 9stf.Tensor(0.06615926, shape=(), dtype=float32)\n",
            "16/27 [================>.............] - ETA: 8stf.Tensor(0.021555278, shape=(), dtype=float32)\n",
            "17/27 [=================>............] - ETA: 7stf.Tensor(0.012229962, shape=(), dtype=float32)\n",
            "18/27 [===================>..........] - ETA: 6stf.Tensor(0.014120946, shape=(), dtype=float32)\n",
            "19/27 [====================>.........] - ETA: 6stf.Tensor(0.007005453, shape=(), dtype=float32)\n",
            "20/27 [=====================>........] - ETA: 5stf.Tensor(0.01219362, shape=(), dtype=float32)\n",
            "21/27 [======================>.......] - ETA: 4stf.Tensor(0.013751512, shape=(), dtype=float32)\n",
            "22/27 [=======================>......] - ETA: 3stf.Tensor(0.003993886, shape=(), dtype=float32)\n",
            "23/27 [========================>.....] - ETA: 3stf.Tensor(0.028368171, shape=(), dtype=float32)\n",
            "24/27 [=========================>....] - ETA: 2stf.Tensor(0.001229613, shape=(), dtype=float32)\n",
            "25/27 [==========================>...] - ETA: 1stf.Tensor(0.049225215, shape=(), dtype=float32)\n",
            "26/27 [===========================>..] - ETA: 0stf.Tensor(0.0005638659, shape=(), dtype=float32)\n",
            "27/27 [==============================] - 103s 742ms/step\n",
            "0.0005638659 1.0 0.9861751\n"
          ]
        }
      ]
    },
    {
      "cell_type": "code",
      "source": [
        "siamese_model.save('my_model.h5')"
      ],
      "metadata": {
        "colab": {
          "base_uri": "https://localhost:8080/"
        },
        "id": "M-8cWk5w6WBg",
        "outputId": "1b8ac405-2f4e-4a60-dc40-7504376bf6c7"
      },
      "execution_count": 23,
      "outputs": [
        {
          "output_type": "stream",
          "name": "stdout",
          "text": [
            "WARNING:tensorflow:Compiled the loaded model, but the compiled metrics have yet to be built. `model.compile_metrics` will be empty until you train or evaluate the model.\n"
          ]
        }
      ]
    }
  ]
}